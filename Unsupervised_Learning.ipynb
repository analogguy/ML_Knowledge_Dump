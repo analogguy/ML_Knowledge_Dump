{
  "nbformat": 4,
  "nbformat_minor": 0,
  "metadata": {
    "colab": {
      "name": "Unsupervised Learning.ipynb",
      "provenance": [],
      "collapsed_sections": []
    },
    "kernelspec": {
      "name": "python3",
      "display_name": "Python 3"
    },
    "language_info": {
      "name": "python"
    }
  },
  "cells": [
    {
      "cell_type": "code",
      "metadata": {
        "id": "H9O7mnj_FxqB"
      },
      "source": [
        "#Kmeans\n",
        "Kmeans remembers mean of each cluster it was fitted on, so when new samples are introduced\n",
        "it simply finds nearest centroid to each new sample"
      ],
      "execution_count": null,
      "outputs": []
    },
    {
      "cell_type": "code",
      "metadata": {
        "id": "0Nyjt7pmqr2a"
      },
      "source": [
        "# Import KMeans\n",
        "from sklearn.cluster import KMeans\n",
        "\n",
        "# Create a KMeans instance with 3 clusters: model\n",
        "model = KMeans(n_clusters=3)\n",
        "\n",
        "# Fit model to points\n",
        "model.fit(points)\n",
        "\n",
        "# Determine the cluster labels of new_points: labels\n",
        "labels = model.predict(new_points)\n",
        "\n",
        "# Print cluster labels of new_points\n",
        "print(labels)\n"
      ],
      "execution_count": null,
      "outputs": []
    },
    {
      "cell_type": "markdown",
      "metadata": {
        "id": "q7yeEmEkq9tR"
      },
      "source": [
        "new_points is an array of points and labels is the array of their cluster labels."
      ]
    },
    {
      "cell_type": "markdown",
      "metadata": {
        "id": "dJ0YsLpKrL6B"
      },
      "source": [
        "The following code will create clusters/show how many are there in data, and color them differently for different labels/clusters."
      ]
    },
    {
      "cell_type": "code",
      "metadata": {
        "id": "sKwebaGlrBGy"
      },
      "source": [
        "# Import pyplot\n",
        "from matplotlib import pyplot as plt\n",
        "\n",
        "# Assign the columns of new_points: xs and ys\n",
        "xs = new_points[:,0]\n",
        "ys = new_points[:,1]\n",
        "\n",
        "# Make a scatter plot of xs and ys, using labels to define the colors\n",
        "plt.scatter(xs, ys, c=labels, alpha=0.5)\n",
        "\n",
        "# Assign the cluster centers: centroids\n",
        "centroids = model.cluster_centers_   #Compute the coordinates of the centroids using the .cluster_centers_ attribute of model\n",
        "\n",
        "# Assign the columns of centroids: centroids_x, centroids_y\n",
        "centroids_x = centroids[:,0]\n",
        "centroids_y = centroids[:,1]   #Assign column 0 of centroids to centroids_x, and column 1 of centroids to centroids_y\n",
        "\n",
        "# Make a scatter plot of centroids_x and centroids_y\n",
        "plt.scatter(centroids_x, centroids_y, marker='D', s=50)\n",
        "plt.show()\n",
        "\n",
        "#Make a scatter plot of centroids_x and centroids_y, \n",
        "#using 'D' (a diamond) as a marker by specifying the marker parameter. Set the size of the markers to be 50 using s=50"
      ],
      "execution_count": null,
      "outputs": []
    },
    {
      "cell_type": "markdown",
      "metadata": {
        "id": "tNnHuOOata56"
      },
      "source": [
        "#Inertia and elbow point\n",
        "Inertia is distance of points from their centroid. So as tight clustering is the goal, desirable inertia should be minimum.\n",
        "Too high clusters - overfit\n",
        "Too low clusters- High inertia and underfit/simplistic\n",
        "Hence we plot inertia for variety of k=cluster numbers and plot nertia(i.e. dist of points from centroid), choose elbow point"
      ]
    },
    {
      "cell_type": "code",
      "metadata": {
        "id": "s-w6Y1eotjq9"
      },
      "source": [
        "ks = range(1, 6)\n",
        "inertias = []\n",
        "\n",
        "for k in ks:\n",
        "    # Create a KMeans instance with k clusters: model\n",
        "    model = KMeans(n_clusters=k)\n",
        "    \n",
        "    # Fit model to samples\n",
        "    model.fit(samples)\n",
        "    \n",
        "    # Append the inertia to the list of inertias\n",
        "    inertias.append(model.inertia_)\n",
        "    \n",
        "# Plot ks vs inertias\n",
        "plt.plot(ks, inertias, '-o')\n",
        "plt.xlabel('number of clusters, k')\n",
        "plt.ylabel('inertia')\n",
        "plt.xticks(ks)\n",
        "plt.show()\n"
      ],
      "execution_count": null,
      "outputs": []
    },
    {
      "cell_type": "code",
      "metadata": {
        "id": "0ZB97_SB3F-8"
      },
      "source": [
        "# Create a KMeans model with 3 clusters: model\n",
        "model = KMeans(n_clusters=3)\n",
        "\n",
        "# Use fit_predict to fit model and obtain cluster labels: labels   #fit_predict is the same as using fit then predict\n",
        "labels = model.fit_predict(samples)\n",
        "\n",
        "# Create a DataFrame with clusters and varieties as columns: df\n",
        "df = pd.DataFrame({'labels': labels, 'varieties': varieties})       #so label of cluster - 0,1,2 and variety of grain is in df\n",
        "\n",
        "# Create crosstab: ct\n",
        "ct = pd.crosstab(df['labels'], df['varieties'])  #Using crosstab, we create a table with following structure\n",
        "\n",
        "\n",
        "#varieties  Canadian wheat  Kama wheat  Rosa wheat\n",
        "#    labels                                           \n",
        "#    0                       0           1          60\n",
        "#    1                      68           9           0\n",
        "#    2                       2          60          10\n",
        "\n",
        "\n",
        "##THIS GIVES US A VISUAL IDEA OF HOW CLEAR AND ACCURATE OUR CLUSTERING WAS\n",
        "\n",
        "#SO OUT OF 70 GRAINS OF VARIETY KAMA WHEAT, 60 WERE FOUND TO BELONG TO CLUSTER 2 AND 9 IN CLUSTER 1\n",
        "#SIMILARILY IN CANADIAN WHEAT, 68 WERE IN VARIETY 1, 2 WERE IN VARIETY 2\n",
        "#IT IS A SIGN OF GOOD CLUSTERING BUT WE WANT TO INCREASE EVEN MORE ACCURACY \n",
        "\n",
        "# Display ct\n",
        "print(ct)\n"
      ],
      "execution_count": null,
      "outputs": []
    },
    {
      "cell_type": "markdown",
      "metadata": {
        "id": "hUizskdD5R8z"
      },
      "source": [
        "Let us use fish measurement data sourced from the Journal of Statistics Education."
      ]
    },
    {
      "cell_type": "code",
      "metadata": {
        "colab": {
          "resources": {
            "http://localhost:8080/nbextensions/google.colab/files.js": {
              "data": "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",
              "ok": true,
              "headers": [
                [
                  "content-type",
                  "application/javascript"
                ]
              ],
              "status": 200,
              "status_text": ""
            }
          },
          "base_uri": "https://localhost:8080/",
          "height": 38
        },
        "id": "6cUYCYHn5dOT",
        "outputId": "3e904b21-b38a-45e1-947d-6c55400b180c"
      },
      "source": [
        "#Load the data\n",
        "from google.colab import files # Use to load data on Google Colab\n",
        "uploaded = files.upload() # Use to load data on Google Colab"
      ],
      "execution_count": null,
      "outputs": [
        {
          "output_type": "display_data",
          "data": {
            "text/html": [
              "\n",
              "     <input type=\"file\" id=\"files-aecf8aed-9df0-4763-9f57-88b9c68ca823\" name=\"files[]\" multiple disabled\n",
              "        style=\"border:none\" />\n",
              "     <output id=\"result-aecf8aed-9df0-4763-9f57-88b9c68ca823\">\n",
              "      Upload widget is only available when the cell has been executed in the\n",
              "      current browser session. Please rerun this cell to enable.\n",
              "      </output>\n",
              "      <script src=\"/nbextensions/google.colab/files.js\"></script> "
            ],
            "text/plain": [
              "<IPython.core.display.HTML object>"
            ]
          },
          "metadata": {
            "tags": []
          }
        }
      ]
    },
    {
      "cell_type": "code",
      "metadata": {
        "colab": {
          "base_uri": "https://localhost:8080/",
          "height": 204
        },
        "id": "a9bev9kX5iUS",
        "outputId": "4aa702a7-4045-47a8-927a-a087e17ddf49"
      },
      "source": [
        "import pandas as pd\n",
        "df = pd.read_csv('fish.csv', header = None)\n",
        "df.head()"
      ],
      "execution_count": null,
      "outputs": [
        {
          "output_type": "execute_result",
          "data": {
            "text/html": [
              "<div>\n",
              "<style scoped>\n",
              "    .dataframe tbody tr th:only-of-type {\n",
              "        vertical-align: middle;\n",
              "    }\n",
              "\n",
              "    .dataframe tbody tr th {\n",
              "        vertical-align: top;\n",
              "    }\n",
              "\n",
              "    .dataframe thead th {\n",
              "        text-align: right;\n",
              "    }\n",
              "</style>\n",
              "<table border=\"1\" class=\"dataframe\">\n",
              "  <thead>\n",
              "    <tr style=\"text-align: right;\">\n",
              "      <th></th>\n",
              "      <th>0</th>\n",
              "      <th>1</th>\n",
              "      <th>2</th>\n",
              "      <th>3</th>\n",
              "      <th>4</th>\n",
              "      <th>5</th>\n",
              "      <th>6</th>\n",
              "    </tr>\n",
              "  </thead>\n",
              "  <tbody>\n",
              "    <tr>\n",
              "      <th>0</th>\n",
              "      <td>Bream</td>\n",
              "      <td>242.0</td>\n",
              "      <td>23.2</td>\n",
              "      <td>25.4</td>\n",
              "      <td>30.0</td>\n",
              "      <td>38.4</td>\n",
              "      <td>13.4</td>\n",
              "    </tr>\n",
              "    <tr>\n",
              "      <th>1</th>\n",
              "      <td>Bream</td>\n",
              "      <td>290.0</td>\n",
              "      <td>24.0</td>\n",
              "      <td>26.3</td>\n",
              "      <td>31.2</td>\n",
              "      <td>40.0</td>\n",
              "      <td>13.8</td>\n",
              "    </tr>\n",
              "    <tr>\n",
              "      <th>2</th>\n",
              "      <td>Bream</td>\n",
              "      <td>340.0</td>\n",
              "      <td>23.9</td>\n",
              "      <td>26.5</td>\n",
              "      <td>31.1</td>\n",
              "      <td>39.8</td>\n",
              "      <td>15.1</td>\n",
              "    </tr>\n",
              "    <tr>\n",
              "      <th>3</th>\n",
              "      <td>Bream</td>\n",
              "      <td>363.0</td>\n",
              "      <td>26.3</td>\n",
              "      <td>29.0</td>\n",
              "      <td>33.5</td>\n",
              "      <td>38.0</td>\n",
              "      <td>13.3</td>\n",
              "    </tr>\n",
              "    <tr>\n",
              "      <th>4</th>\n",
              "      <td>Bream</td>\n",
              "      <td>430.0</td>\n",
              "      <td>26.5</td>\n",
              "      <td>29.0</td>\n",
              "      <td>34.0</td>\n",
              "      <td>36.6</td>\n",
              "      <td>15.1</td>\n",
              "    </tr>\n",
              "  </tbody>\n",
              "</table>\n",
              "</div>"
            ],
            "text/plain": [
              "       0      1     2     3     4     5     6\n",
              "0  Bream  242.0  23.2  25.4  30.0  38.4  13.4\n",
              "1  Bream  290.0  24.0  26.3  31.2  40.0  13.8\n",
              "2  Bream  340.0  23.9  26.5  31.1  39.8  15.1\n",
              "3  Bream  363.0  26.3  29.0  33.5  38.0  13.3\n",
              "4  Bream  430.0  26.5  29.0  34.0  36.6  15.1"
            ]
          },
          "metadata": {
            "tags": []
          },
          "execution_count": 16
        }
      ]
    },
    {
      "cell_type": "code",
      "metadata": {
        "id": "Egcp7xEB9n3F"
      },
      "source": [
        "# Perform the necessary imports\n",
        "from sklearn.pipeline import make_pipeline\n",
        "from sklearn.preprocessing import StandardScaler\n",
        "from sklearn.cluster import KMeans\n",
        "\n",
        "# Create scaler: scaler\n",
        "scaler = StandardScaler\n",
        "\n",
        "# Create KMeans instance: kmeans\n",
        "kmeans = KMeans(n_clusters=4)\n",
        "\n",
        "# Create pipeline: pipeline\n",
        "pipeline = make_pipeline(scaler, kmeans)\n"
      ],
      "execution_count": null,
      "outputs": []
    },
    {
      "cell_type": "code",
      "metadata": {
        "colab": {
          "base_uri": "https://localhost:8080/"
        },
        "id": "rm-NMly19vyZ",
        "outputId": "c7512080-56bd-42a0-d3ea-830a4eb0656f"
      },
      "source": [
        "# Import pandas\n",
        "import pandas as pd\n",
        "\n",
        "\n",
        "samples = df.iloc[: , 1:]\n",
        "species = df.iloc[:, 0]   \n",
        "\n",
        "\n",
        "# Fit the pipeline to samples\n",
        "pipeline.fit(samples)\n",
        "\n",
        "# Calculate the cluster labels: labels\n",
        "labels = pipeline.predict(samples)\n",
        "\n",
        "\n",
        "\n",
        "# Create a DataFrame with labels and species as columns: df\n",
        "df = pd.DataFrame({'labels': labels, 'species': species})\n",
        "\n",
        "# Create crosstab: ct\n",
        "ct = pd.crosstab(df['labels'], df['species'])\n",
        "\n",
        "# Display ct\n",
        "print(ct)\n"
      ],
      "execution_count": null,
      "outputs": [
        {
          "output_type": "stream",
          "text": [
            "species  Bream  Pike  Roach  Smelt\n",
            "labels                            \n",
            "0           33     0      1      0\n",
            "1            0     0      0     13\n",
            "2            0    17      0      0\n",
            "3            1     0     19      1\n"
          ],
          "name": "stdout"
        }
      ]
    },
    {
      "cell_type": "markdown",
      "metadata": {
        "id": "I4huh0Pn_WE4"
      },
      "source": [
        "So, finally in the above chunk you see that for a species name ie our variety, particular label is 0-3 (cluster label), and so\n",
        "Bream falls mainly under topic 0\n",
        "smelt falls mainly under topic 1\n",
        "and this cross tab things helps us visualize it this way better"
      ]
    },
    {
      "cell_type": "markdown",
      "metadata": {
        "id": "cZz1yHux_8kE"
      },
      "source": [
        "Clustering stocks using KMeans\n",
        "In this exercise, you'll cluster companies using their daily stock price movements (i.e. the dollar difference between the closing and opening prices for each trading day). \n",
        "\n",
        "You are given a NumPy array movements of daily price movements from 2010 to 2015 (obtained from Yahoo! Finance), where each row corresponds to a company, and each column corresponds to a trading day.\n",
        "\n",
        "Some stocks are more expensive than others. To account for this, include a Normalizer at the beginning of your pipeline. The Normalizer will separately transform each company's stock price to a relative scale before the clustering begins.\n",
        "\n",
        "Note that Normalizer() is different to StandardScaler(), which you used in the previous exercise. While StandardScaler() standardizes features (such as the features of the fish data from the previous exercise) by removing the mean and scaling to unit variance, Normalizer() rescales each sample - here, each company's stock price - independently of the other."
      ]
    },
    {
      "cell_type": "code",
      "metadata": {
        "id": "HPKPZLkXAgd4"
      },
      "source": [
        "# Import Normalizer\n",
        "from sklearn.preprocessing import Normalizer\n",
        "\n",
        "# Create a normalizer: normalizer\n",
        "normalizer = Normalizer()\n",
        "\n",
        "# Create a KMeans model with 10 clusters: kmeans\n",
        "kmeans = KMeans(n_clusters = 10)\n",
        "\n",
        "# Make a pipeline chaining normalizer and kmeans: pipeline\n",
        "pipeline = make_pipeline(normalizer, kmeans)\n",
        "\n",
        "# Fit pipeline to the daily price movements\n",
        "pipeline.fit(movements)         #movements is our sample data, showing daily price movements of stocks from 2010 to 2015\n"
      ],
      "execution_count": null,
      "outputs": []
    },
    {
      "cell_type": "markdown",
      "metadata": {
        "id": "gpEtMh1ZIFkf"
      },
      "source": [
        "Which stocks move together?\n",
        "In the previous exercise, you clustered companies by their daily stock price movements. So which company have stock prices that tend to change in the same way? You'll now inspect the cluster labels from your clustering to find out."
      ]
    },
    {
      "cell_type": "code",
      "metadata": {
        "id": "4IAb6N6ZIggk"
      },
      "source": [
        "# Import pandas\n",
        "import pandas as pd\n",
        "\n",
        "# Predict the cluster labels: labels\n",
        "labels = pipeline.predict(movements)\n",
        "\n",
        "# Create a DataFrame aligning labels and companies: df\n",
        "df = pd.DataFrame({'labels': labels, 'companies': companies})\n",
        "\n",
        "# Display df sorted by cluster label\n",
        "print(df.sort_values('labels'))\n"
      ],
      "execution_count": null,
      "outputs": []
    },
    {
      "cell_type": "markdown",
      "metadata": {
        "id": "_uBLsD43IjOz"
      },
      "source": [
        "#Output looks like following\n",
        "<script.py> output:\n",
        "\n",
        "        labels                           companies\n",
        "\n",
        "    59       0                               Yahoo\n",
        "    15       0                                Ford\n",
        "    35       0                            Navistar\n",
        "    26       1                      JPMorgan Chase\n",
        "    16       1                   General Electrics\n",
        "    58       1                               Xerox\n",
        "    11       1                               Cisco\n",
        "    18       1                       Goldman Sachs\n",
        "    20       1                          Home Depot\n",
        "    5        1                     Bank of America\n",
        "    3        1                    American express\n",
        "    55       1                         Wells Fargo\n",
        "    1        1                                 AIG\n",
        "    38       2                               Pepsi\n",
        "    40       2                      Procter Gamble\n",
        "    28       2                           Coca Cola\n",
        "    27       2                      Kimberly-Clark\n",
        "    9        2                   Colgate-Palmolive\n",
        "    54       3                            Walgreen\n",
        "    36       3                    Northrop Grumman\n",
        "    29       3                     Lookheed Martin\n",
        "    4        3                              Boeing\n",
        "    0        4                               Apple\n",
        "    47       4                            Symantec\n",
        "    33       4                           Microsoft\n",
        "    32       4                                  3M\n",
        "    31       4                           McDonalds\n",
        "    30       4                          MasterCard\n",
        "    50       4  Taiwan Semiconductor Manufacturing\n",
        "    14       4                                Dell\n",
        "    17       4                     Google/Alphabet\n",
        "    24       4                               Intel\n",
        "    23       4                                 IBM\n",
        "    2        4                              Amazon\n",
        "    51       4                   Texas instruments\n",
        "    43       4                                 SAP\n",
        "    45       5                                Sony\n",
        "    48       5                              Toyota\n",
        "    21       5                               Honda\n",
        "    22       5                                  HP\n",
        "    34       5                          Mitsubishi\n",
        "    7        5                               Canon\n",
        "    56       6                            Wal-Mart\n",
        "    57       7                               Exxon\n",
        "    44       7                        Schlumberger\n",
        "    8        7                         Caterpillar\n",
        "    10       7                      ConocoPhillips\n",
        "    12       7                             Chevron\n",
        "    13       7                   DuPont de Nemours\n",
        "    53       7                       Valero Energy\n",
        "    39       8                              Pfizer\n",
        "    41       8                       Philip Morris\n",
        "    25       8                   Johnson & Johnson\n",
        "    49       9                               Total\n",
        "    46       9                      Sanofi-Aventis\n",
        "    37       9                            Novartis\n",
        "    42       9                   Royal Dutch Shell\n",
        "    19       9                     GlaxoSmithKline\n",
        "    52       9                            Unilever\n",
        "    6        9            British American Tobacco"
      ]
    },
    {
      "cell_type": "code",
      "metadata": {
        "colab": {
          "resources": {
            "http://localhost:8080/nbextensions/google.colab/files.js": {
              "data": "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",
              "ok": true,
              "headers": [
                [
                  "content-type",
                  "application/javascript"
                ]
              ],
              "status": 200,
              "status_text": ""
            }
          },
          "base_uri": "https://localhost:8080/",
          "height": 72
        },
        "id": "6HjJ5ryuIoCC",
        "outputId": "e013ed91-bd73-45f4-9cb7-3612c6991809"
      },
      "source": [
        "#Load the data\n",
        "from google.colab import files # Use to load data on Google Colab\n",
        "uploaded = files.upload() # Use to load data on Google Colab"
      ],
      "execution_count": null,
      "outputs": [
        {
          "output_type": "display_data",
          "data": {
            "text/html": [
              "\n",
              "     <input type=\"file\" id=\"files-532d9cfd-70d1-40a9-bc83-3b4f623191c4\" name=\"files[]\" multiple disabled\n",
              "        style=\"border:none\" />\n",
              "     <output id=\"result-532d9cfd-70d1-40a9-bc83-3b4f623191c4\">\n",
              "      Upload widget is only available when the cell has been executed in the\n",
              "      current browser session. Please rerun this cell to enable.\n",
              "      </output>\n",
              "      <script src=\"/nbextensions/google.colab/files.js\"></script> "
            ],
            "text/plain": [
              "<IPython.core.display.HTML object>"
            ]
          },
          "metadata": {
            "tags": []
          }
        },
        {
          "output_type": "stream",
          "text": [
            "Saving eurovision-2016.csv to eurovision-2016 (1).csv\n"
          ],
          "name": "stdout"
        }
      ]
    },
    {
      "cell_type": "code",
      "metadata": {
        "colab": {
          "base_uri": "https://localhost:8080/",
          "height": 204
        },
        "id": "4sZ39yERRm2P",
        "outputId": "622c155f-5588-4ee6-c673-d9aa2ab9af4e"
      },
      "source": [
        "import pandas as pd\n",
        "Eurovision = pd.read_csv('eurovision-2016.csv', header = None)\n",
        "Eurovision.head()"
      ],
      "execution_count": null,
      "outputs": [
        {
          "output_type": "execute_result",
          "data": {
            "text/html": [
              "<div>\n",
              "<style scoped>\n",
              "    .dataframe tbody tr th:only-of-type {\n",
              "        vertical-align: middle;\n",
              "    }\n",
              "\n",
              "    .dataframe tbody tr th {\n",
              "        vertical-align: top;\n",
              "    }\n",
              "\n",
              "    .dataframe thead th {\n",
              "        text-align: right;\n",
              "    }\n",
              "</style>\n",
              "<table border=\"1\" class=\"dataframe\">\n",
              "  <thead>\n",
              "    <tr style=\"text-align: right;\">\n",
              "      <th></th>\n",
              "      <th>0</th>\n",
              "      <th>1</th>\n",
              "      <th>2</th>\n",
              "      <th>3</th>\n",
              "      <th>4</th>\n",
              "      <th>5</th>\n",
              "      <th>6</th>\n",
              "      <th>7</th>\n",
              "      <th>8</th>\n",
              "      <th>9</th>\n",
              "      <th>10</th>\n",
              "    </tr>\n",
              "  </thead>\n",
              "  <tbody>\n",
              "    <tr>\n",
              "      <th>0</th>\n",
              "      <td>From country</td>\n",
              "      <td>To country</td>\n",
              "      <td>Jury A</td>\n",
              "      <td>Jury B</td>\n",
              "      <td>Jury C</td>\n",
              "      <td>Jury D</td>\n",
              "      <td>Jury E</td>\n",
              "      <td>Jury Rank</td>\n",
              "      <td>Televote Rank</td>\n",
              "      <td>Jury Points</td>\n",
              "      <td>Televote Points</td>\n",
              "    </tr>\n",
              "    <tr>\n",
              "      <th>1</th>\n",
              "      <td>Albania</td>\n",
              "      <td>Belgium</td>\n",
              "      <td>20</td>\n",
              "      <td>16</td>\n",
              "      <td>24</td>\n",
              "      <td>22</td>\n",
              "      <td>24</td>\n",
              "      <td>25</td>\n",
              "      <td>14</td>\n",
              "      <td>NaN</td>\n",
              "      <td>NaN</td>\n",
              "    </tr>\n",
              "    <tr>\n",
              "      <th>2</th>\n",
              "      <td>Albania</td>\n",
              "      <td>Czech Republic</td>\n",
              "      <td>21</td>\n",
              "      <td>15</td>\n",
              "      <td>25</td>\n",
              "      <td>23</td>\n",
              "      <td>16</td>\n",
              "      <td>22</td>\n",
              "      <td>22</td>\n",
              "      <td>NaN</td>\n",
              "      <td>NaN</td>\n",
              "    </tr>\n",
              "    <tr>\n",
              "      <th>3</th>\n",
              "      <td>Albania</td>\n",
              "      <td>The Netherlands</td>\n",
              "      <td>22</td>\n",
              "      <td>14</td>\n",
              "      <td>23</td>\n",
              "      <td>24</td>\n",
              "      <td>21</td>\n",
              "      <td>24</td>\n",
              "      <td>24</td>\n",
              "      <td>NaN</td>\n",
              "      <td>NaN</td>\n",
              "    </tr>\n",
              "    <tr>\n",
              "      <th>4</th>\n",
              "      <td>Albania</td>\n",
              "      <td>Azerbaijan</td>\n",
              "      <td>19</td>\n",
              "      <td>12</td>\n",
              "      <td>11</td>\n",
              "      <td>21</td>\n",
              "      <td>11</td>\n",
              "      <td>13</td>\n",
              "      <td>19</td>\n",
              "      <td>NaN</td>\n",
              "      <td>NaN</td>\n",
              "    </tr>\n",
              "  </tbody>\n",
              "</table>\n",
              "</div>"
            ],
            "text/plain": [
              "             0                1   ...           9                10\n",
              "0  From country       To country  ...  Jury Points  Televote Points\n",
              "1       Albania          Belgium  ...          NaN              NaN\n",
              "2       Albania   Czech Republic  ...          NaN              NaN\n",
              "3       Albania  The Netherlands  ...          NaN              NaN\n",
              "4       Albania       Azerbaijan  ...          NaN              NaN\n",
              "\n",
              "[5 rows x 11 columns]"
            ]
          },
          "metadata": {
            "tags": []
          },
          "execution_count": 5
        }
      ]
    },
    {
      "cell_type": "code",
      "metadata": {
        "id": "C10nkv9zT3dj"
      },
      "source": [
        "#CODE FOR DENDOGRAM"
      ],
      "execution_count": null,
      "outputs": []
    },
    {
      "cell_type": "code",
      "metadata": {
        "id": "YmcqrN1AT1TV"
      },
      "source": [
        "\n",
        "# Perform the necessary imports\n",
        "from scipy.cluster.hierarchy import linkage, dendrogram\n",
        "import matplotlib.pyplot as plt\n",
        "\n",
        "# Calculate the linkage: mergings\n",
        "mergings = linkage(samples, method = 'complete')\n",
        "\n",
        "# Plot the dendrogram, using varieties as labels\n",
        "dendrogram(mergings,\n",
        "           labels=varieties,\n",
        "           leaf_rotation=90,\n",
        "           leaf_font_size=6,\n",
        ")\n",
        "plt.show()\n"
      ],
      "execution_count": null,
      "outputs": []
    },
    {
      "cell_type": "markdown",
      "metadata": {
        "id": "oluew4_CVbhf"
      },
      "source": [
        "#Hierarchies of stocks\n",
        "In chapter 1, you used k-means clustering to cluster companies according to their stock price movements. Now, you'll perform hierarchical clustering of the companies. You are given a NumPy array of price movements movements, where the rows correspond to companies, and a list of the company names companies. SciPy hierarchical clustering doesn't fit into a sklearn pipeline, so you'll need to use the normalize() function from sklearn.preprocessing instead of Normalizer.\n",
        "\n",
        "linkage and dendrogram have already been imported from scipy.cluster.hierarchy, and PyPlot has been imported as plt."
      ]
    },
    {
      "cell_type": "markdown",
      "metadata": {
        "id": "xow-NKG_Wav8"
      },
      "source": [
        "#so first read in data, understand what col is what from above chunk's text."
      ]
    },
    {
      "cell_type": "markdown",
      "metadata": {
        "id": "akUxeowyWfC8"
      },
      "source": [
        "#RUN DENDOGRAM AND OBTAIN THE FOLLOWING CODE AND IMAGE"
      ]
    },
    {
      "cell_type": "code",
      "metadata": {
        "id": "q2IwraY4VZJ9"
      },
      "source": [
        "# Import normalize\n",
        "from sklearn.preprocessing import normalize\n",
        "\n",
        "# Normalize the movements: normalized_movements\n",
        "normalized_movements = normalize(movements)\n",
        "\n",
        "# Calculate the linkage: mergings\n",
        "mergings = linkage(normalized_movements, method='complete')\n",
        "\n",
        "# Plot the dendrogram\n",
        "dendrogram(\n",
        "    mergings,\n",
        "    labels=companies,\n",
        "    leaf_rotation=90,\n",
        "    leaf_font_size=6\n",
        ")\n",
        "plt.show()\n"
      ],
      "execution_count": null,
      "outputs": []
    },
    {
      "cell_type": "markdown",
      "metadata": {
        "id": "Ezpm5fHiWS0F"
      },
      "source": [
        "\n",
        "\n",
        "---\n",
        "\n",
        "![CSM.PNG](data:image/png;base64,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)"
      ]
    },
    {
      "cell_type": "markdown",
      "metadata": {
        "id": "Tr2WWd7ylX1j"
      },
      "source": [
        "perform a hierarchical clustering of the voting countries with 'single' linkage,\n",
        "You are given an array samples. Each row corresponds to a voting country, and each column corresponds to a performance that was voted for. The list country_names gives the name of each voting country. \n",
        "\n",
        "We use Eurovision data loaded before"
      ]
    },
    {
      "cell_type": "code",
      "metadata": {
        "colab": {
          "base_uri": "https://localhost:8080/",
          "height": 129
        },
        "id": "UySIQPNUmPtr",
        "outputId": "aaad26d1-6637-4a21-c27c-3c01841a127e"
      },
      "source": [
        "samples = Eurovision\n",
        "country_names = samples[['From country']].values()\n",
        " \n",
        "\n",
        "# Perform the necessary imports\n",
        "import matplotlib.pyplot as plt\n",
        "from scipy.cluster.hierarchy import linkage, dendrogram\n",
        "\n",
        "# Calculate the linkage: mergings\n",
        "mergings = linkage(samples, method='single')\n",
        "\n",
        "# Plot the dendrogram\n",
        "dendrogram(mergings,\n",
        "           labels=country_names,\n",
        "           leaf_rotation=90,\n",
        "           leaf_font_size=6,\n",
        ")\n",
        "plt.show()\n"
      ],
      "execution_count": null,
      "outputs": [
        {
          "output_type": "error",
          "ename": "SyntaxError",
          "evalue": "ignored",
          "traceback": [
            "\u001b[0;36m  File \u001b[0;32m\"<ipython-input-22-a0d26cc099ae>\"\u001b[0;36m, line \u001b[0;32m3\u001b[0m\n\u001b[0;31m    country_names = samples[,1]\u001b[0m\n\u001b[0m                            ^\u001b[0m\n\u001b[0;31mSyntaxError\u001b[0m\u001b[0;31m:\u001b[0m invalid syntax\n"
          ]
        }
      ]
    },
    {
      "cell_type": "markdown",
      "metadata": {
        "id": "KjN8kR-boax4"
      },
      "source": [
        "![image.png](data:image/png;base64,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)"
      ]
    },
    {
      "cell_type": "markdown",
      "metadata": {
        "id": "U4pDZsB8o2zK"
      },
      "source": [
        "To find no of clusters at an intermediate height, \n",
        "use the fcluster() function to extract the cluster labels for this intermediate clustering, and compare the labels with the grain varieties using a cross-tabulation.\n",
        "\n",
        "The hierarchical clustering has already been performed and mergings is the result of the linkage() function. The list varieties gives the variety of each grain sample.\n",
        "\n",
        "So task is, \n",
        "\n",
        "Perform a flat hierarchical clustering by using the fcluster() function on mergings. Specify a maximum height of 6 and the keyword argument criterion='distance'.\n",
        "Create a DataFrame df with two columns named 'labels' and 'varieties', using labels and varieties, respectively, for the column values.\n",
        "Create a cross-tabulation ct between df['labels'] and df['varieties'] to count the number of times each grain variety coincides with each cluster label."
      ]
    },
    {
      "cell_type": "code",
      "metadata": {
        "id": "AZaANF90o1-D"
      },
      "source": [
        "# Perform the necessary imports\n",
        "import pandas as pd\n",
        "from scipy.cluster.hierarchy import fcluster\n",
        "\n",
        "# Use fcluster to extract labels: labels\n",
        "labels = fcluster(mergings, 6, criterion='distance')\n",
        "\n",
        "# Create a DataFrame with labels and varieties as columns: df\n",
        "df = pd.DataFrame({'labels': labels, 'varieties': varieties})\n",
        "\n",
        "# Create crosstab: ct\n",
        "ct = pd.crosstab(df['labels'], df['varieties'])\n",
        "\n",
        "# Display ct\n",
        "print(ct)\n"
      ],
      "execution_count": null,
      "outputs": []
    },
    {
      "cell_type": "markdown",
      "metadata": {
        "id": "C0OlScdpslY8"
      },
      "source": [
        "#TSNE"
      ]
    },
    {
      "cell_type": "code",
      "metadata": {
        "id": "dWfuyKw_smnE"
      },
      "source": [
        "# Import TSNE\n",
        "from sklearn.manifold import TSNE\n",
        "\n",
        "# Create a TSNE instance: model\n",
        "model = TSNE(learning_rate=200)\n",
        "\n",
        "# Apply fit_transform to samples: tsne_features\n",
        "tsne_features = model.fit_transform(samples)\n",
        "\n",
        "# Select the 0th feature: xs\n",
        "xs = tsne_features[:,0]\n",
        "\n",
        "# Select the 1st feature: ys\n",
        "ys = tsne_features[:,1]\n",
        "\n",
        "# Scatter plot, coloring by variety_numbers\n",
        "plt.scatter(xs, ys, c=variety_numbers)\n",
        "plt.show()\n"
      ],
      "execution_count": null,
      "outputs": []
    },
    {
      "cell_type": "markdown",
      "metadata": {
        "id": "AjlcQgd0swmk"
      },
      "source": [
        "A t-SNE map of the stock market\n",
        "t-SNE provides great visualizations when the individual samples can be labeled. In this exercise, you'll apply t-SNE to the company stock price data. A scatter plot of the resulting t-SNE features, labeled by the company names, gives you a map of the stock market! The stock price movements for each company are available as the array normalized_movements (these have already been normalized for you). The list companies gives the name of each company. "
      ]
    },
    {
      "cell_type": "code",
      "metadata": {
        "id": "qvQuaHxCs5QK"
      },
      "source": [
        "# Import TSNE\n",
        "from sklearn.manifold import TSNE\n",
        "\n",
        "# Create a TSNE instance: model\n",
        "model = TSNE(learning_rate=50)\n",
        "\n",
        "# Apply fit_transform to normalized_movements: tsne_features\n",
        "tsne_features = model.fit_transform(normalized_movements)\n",
        "\n",
        "# Select the 0th feature: xs\n",
        "xs = tsne_features[:,0]\n",
        "\n",
        "# Select the 1th feature: ys\n",
        "ys = tsne_features[:,1]\n",
        "\n",
        "# Scatter plot\n",
        "plt.scatter(xs, ys, alpha=0.5)\n",
        "\n",
        "# Annotate the points\n",
        "for x, y, company in zip(xs, ys, companies):\n",
        "    plt.annotate(company, (x, y), fontsize=5, alpha=0.75)\n",
        "plt.show()\n"
      ],
      "execution_count": null,
      "outputs": []
    },
    {
      "cell_type": "markdown",
      "metadata": {
        "id": "LJ1T-CPvuHny"
      },
      "source": [
        "#PRINCIPAL COMPONENT ANALYSIS\n",
        "PCA helps decorrelate and reduce data's dimesnions and keeps only imp/principal features.\n",
        "It first decorrelates:\n",
        "Rotates data samples to be aligned with axis \n",
        "Shifts data samples so mean is 0\n",
        "Hence features are decorrelated linearly. can check with pearson correlation (-1 to 1).\n",
        "\n",
        "Prinicpal components are directions where data varies the most"
      ]
    },
    {
      "cell_type": "markdown",
      "metadata": {
        "id": "u5H-8YyF0_2K"
      },
      "source": [
        "You are given an array grains giving the width and length of samples of grain. You suspect that width and length will be correlated. To confirm this, make a scatter plot of width vs length and measure their Pearson correlation."
      ]
    },
    {
      "cell_type": "code",
      "metadata": {
        "id": "moS9uMgM1CMx"
      },
      "source": [
        "# Perform the necessary imports\n",
        "import matplotlib.pyplot as plt\n",
        "from scipy.stats import pearsonr\n",
        "\n",
        "# Assign the 0th column of grains: width\n",
        "width = grains[:,0]\n",
        "\n",
        "# Assign the 1st column of grains: length\n",
        "length = grains[:,1]\n",
        "\n",
        "# Scatter plot width vs length\n",
        "plt.scatter(width, length)\n",
        "plt.axis('equal')\n",
        "plt.show()\n",
        "\n",
        "# Calculate the Pearson correlation\n",
        "correlation, pvalue = pearsonr(width, length)\n",
        "\n",
        "# Display the correlation\n",
        "print(correlation)\n"
      ],
      "execution_count": null,
      "outputs": []
    },
    {
      "cell_type": "markdown",
      "metadata": {
        "id": "q3VJrfyv1JMS"
      },
      "source": [
        "Now, we'll use PCA to decorrelate these measurements, then plot the decorrelated points and measure their Pearson correlation."
      ]
    },
    {
      "cell_type": "code",
      "metadata": {
        "id": "IuS3SwvK1V9D"
      },
      "source": [
        "# Import PCA\n",
        "from sklearn.decomposition import PCA\n",
        "\n",
        "# Create PCA instance: model\n",
        "model = PCA()\n",
        "\n",
        "# Apply the fit_transform method of model to grains: pca_features\n",
        "pca_features = model.fit_transform(grains)\n",
        "\n",
        "# Assign 0th column of pca_features: xs\n",
        "xs = pca_features[:,0]\n",
        "\n",
        "# Assign 1st column of pca_features: ys\n",
        "ys = pca_features[:,1]\n",
        "\n",
        "# Scatter plot xs vs ys\n",
        "plt.scatter(xs, ys)\n",
        "plt.axis('equal')\n",
        "plt.show()\n",
        "\n",
        "# Calculate the Pearson correlation of xs and ys\n",
        "correlation, pvalue = pearsonr(xs, ys)\n",
        "\n",
        "# Display the correlation\n",
        "print(correlation)"
      ],
      "execution_count": null,
      "outputs": []
    },
    {
      "cell_type": "markdown",
      "metadata": {
        "id": "w2tU8_L92S2c"
      },
      "source": [
        "Intrinsic dimesion is no of features that have significant variance If any feature has not much significant variance, it doesn't explain much and is not needed."
      ]
    },
    {
      "cell_type": "markdown",
      "metadata": {
        "id": "jDaYN-gd5ITt"
      },
      "source": [
        "The first principal component\n",
        "The first principal component of the data is the direction in which the data varies the most. In this exercise, our job is to use PCA to find the first principal component of the length and width measurements of the grain samples, and represent it as an arrow on the scatter plot.\n",
        "\n",
        "The array grains gives the length and width of the grain samples. PyPlot (plt) and PCA have already been imported for us."
      ]
    },
    {
      "cell_type": "code",
      "metadata": {
        "id": "tLmXQzA95mk_"
      },
      "source": [
        "# Make a scatter plot of the untransformed points\n",
        "plt.scatter(grains[:,0], grains[:,1])\n",
        "\n",
        "# Create a PCA instance: model\n",
        "model = PCA()\n",
        "\n",
        "# Fit model to points\n",
        "model.fit(grains)\n",
        "\n",
        "# Get the mean of the grain samples: mean\n",
        "mean = model.mean_\n",
        "\n",
        "# Get the first principal component: first_pc\n",
        "first_pc = model.components_[0,:]\n",
        "\n",
        "# Plot first_pc as an arrow, starting at mean\n",
        "plt.arrow(mean[0], mean[1], first_pc[0], first_pc[1], color='red', width=0.01)\n",
        "\n",
        "# Keep axes on same scale\n",
        "plt.axis('equal')\n",
        "plt.show()"
      ],
      "execution_count": null,
      "outputs": []
    },
    {
      "cell_type": "markdown",
      "metadata": {
        "id": "tB-KN7BR5pK1"
      },
      "source": [
        "Output will be a graph showing in which direction is the variance highest"
      ]
    },
    {
      "cell_type": "markdown",
      "metadata": {
        "id": "yrHLIL3z51i7"
      },
      "source": [
        "The fish dataset is 6-dimensional. But what is its intrinsic dimension? Make a plot of the variances of the PCA features to find out. \n",
        "\n",
        "Extract the number of components used using the .n_components_ attribute of pca. Place this inside a range() function and store the result as features.\n",
        "Use the plt.bar() function to plot the explained variances, with features on the x-axis and pca.explained_variance_ on the y-axis."
      ]
    },
    {
      "cell_type": "code",
      "metadata": {
        "colab": {
          "base_uri": "https://localhost:8080/",
          "height": 374
        },
        "id": "8aYaCUkj57dE",
        "outputId": "d871a35f-7338-432a-a011-7ff60c7f7992"
      },
      "source": [
        "# Perform the necessary imports\n",
        "from sklearn.decomposition import PCA\n",
        "from sklearn.preprocessing import StandardScaler\n",
        "from sklearn.pipeline import make_pipeline\n",
        "import matplotlib.pyplot as plt\n",
        "\n",
        "# Create scaler: scaler\n",
        "scaler = StandardScaler()\n",
        "\n",
        "# Create a PCA instance: pca\n",
        "pca = PCA()\n",
        "\n",
        "# Create pipeline: pipeline\n",
        "pipeline = make_pipeline(scaler, pca)\n",
        "\n",
        "# Fit the pipeline to 'samples'\n",
        "pipeline.fit(samples)\n",
        "\n",
        "# Plot the explained variances\n",
        "features = range(pca.n_components_)\n",
        "plt.bar(features, pca.explained_variance_)\n",
        "plt.xlabel('PCA feature')\n",
        "plt.ylabel('variance')\n",
        "plt.xticks(features)\n",
        "plt.show()\n"
      ],
      "execution_count": null,
      "outputs": [
        {
          "output_type": "error",
          "ename": "ValueError",
          "evalue": "ignored",
          "traceback": [
            "\u001b[0;31m---------------------------------------------------------------------------\u001b[0m",
            "\u001b[0;31mValueError\u001b[0m                                Traceback (most recent call last)",
            "\u001b[0;32m<ipython-input-23-550511bb5057>\u001b[0m in \u001b[0;36m<module>\u001b[0;34m()\u001b[0m\n\u001b[1;32m     15\u001b[0m \u001b[0;34m\u001b[0m\u001b[0m\n\u001b[1;32m     16\u001b[0m \u001b[0;31m# Fit the pipeline to 'samples'\u001b[0m\u001b[0;34m\u001b[0m\u001b[0;34m\u001b[0m\u001b[0;34m\u001b[0m\u001b[0m\n\u001b[0;32m---> 17\u001b[0;31m \u001b[0mpipeline\u001b[0m\u001b[0;34m.\u001b[0m\u001b[0mfit\u001b[0m\u001b[0;34m(\u001b[0m\u001b[0msamples\u001b[0m\u001b[0;34m)\u001b[0m\u001b[0;34m\u001b[0m\u001b[0;34m\u001b[0m\u001b[0m\n\u001b[0m\u001b[1;32m     18\u001b[0m \u001b[0;34m\u001b[0m\u001b[0m\n\u001b[1;32m     19\u001b[0m \u001b[0;31m# Plot the explained variances\u001b[0m\u001b[0;34m\u001b[0m\u001b[0;34m\u001b[0m\u001b[0;34m\u001b[0m\u001b[0m\n",
            "\u001b[0;32m/usr/local/lib/python3.7/dist-packages/sklearn/pipeline.py\u001b[0m in \u001b[0;36mfit\u001b[0;34m(self, X, y, **fit_params)\u001b[0m\n\u001b[1;32m    348\u001b[0m             \u001b[0mThis\u001b[0m \u001b[0mestimator\u001b[0m\u001b[0;34m\u001b[0m\u001b[0;34m\u001b[0m\u001b[0m\n\u001b[1;32m    349\u001b[0m         \"\"\"\n\u001b[0;32m--> 350\u001b[0;31m         \u001b[0mXt\u001b[0m\u001b[0;34m,\u001b[0m \u001b[0mfit_params\u001b[0m \u001b[0;34m=\u001b[0m \u001b[0mself\u001b[0m\u001b[0;34m.\u001b[0m\u001b[0m_fit\u001b[0m\u001b[0;34m(\u001b[0m\u001b[0mX\u001b[0m\u001b[0;34m,\u001b[0m \u001b[0my\u001b[0m\u001b[0;34m,\u001b[0m \u001b[0;34m**\u001b[0m\u001b[0mfit_params\u001b[0m\u001b[0;34m)\u001b[0m\u001b[0;34m\u001b[0m\u001b[0;34m\u001b[0m\u001b[0m\n\u001b[0m\u001b[1;32m    351\u001b[0m         with _print_elapsed_time('Pipeline',\n\u001b[1;32m    352\u001b[0m                                  self._log_message(len(self.steps) - 1)):\n",
            "\u001b[0;32m/usr/local/lib/python3.7/dist-packages/sklearn/pipeline.py\u001b[0m in \u001b[0;36m_fit\u001b[0;34m(self, X, y, **fit_params)\u001b[0m\n\u001b[1;32m    313\u001b[0m                 \u001b[0mmessage_clsname\u001b[0m\u001b[0;34m=\u001b[0m\u001b[0;34m'Pipeline'\u001b[0m\u001b[0;34m,\u001b[0m\u001b[0;34m\u001b[0m\u001b[0;34m\u001b[0m\u001b[0m\n\u001b[1;32m    314\u001b[0m                 \u001b[0mmessage\u001b[0m\u001b[0;34m=\u001b[0m\u001b[0mself\u001b[0m\u001b[0;34m.\u001b[0m\u001b[0m_log_message\u001b[0m\u001b[0;34m(\u001b[0m\u001b[0mstep_idx\u001b[0m\u001b[0;34m)\u001b[0m\u001b[0;34m,\u001b[0m\u001b[0;34m\u001b[0m\u001b[0;34m\u001b[0m\u001b[0m\n\u001b[0;32m--> 315\u001b[0;31m                 **fit_params_steps[name])\n\u001b[0m\u001b[1;32m    316\u001b[0m             \u001b[0;31m# Replace the transformer of the step with the fitted\u001b[0m\u001b[0;34m\u001b[0m\u001b[0;34m\u001b[0m\u001b[0;34m\u001b[0m\u001b[0m\n\u001b[1;32m    317\u001b[0m             \u001b[0;31m# transformer. This is necessary when loading the transformer\u001b[0m\u001b[0;34m\u001b[0m\u001b[0;34m\u001b[0m\u001b[0;34m\u001b[0m\u001b[0m\n",
            "\u001b[0;32m/usr/local/lib/python3.7/dist-packages/joblib/memory.py\u001b[0m in \u001b[0;36m__call__\u001b[0;34m(self, *args, **kwargs)\u001b[0m\n\u001b[1;32m    350\u001b[0m \u001b[0;34m\u001b[0m\u001b[0m\n\u001b[1;32m    351\u001b[0m     \u001b[0;32mdef\u001b[0m \u001b[0m__call__\u001b[0m\u001b[0;34m(\u001b[0m\u001b[0mself\u001b[0m\u001b[0;34m,\u001b[0m \u001b[0;34m*\u001b[0m\u001b[0margs\u001b[0m\u001b[0;34m,\u001b[0m \u001b[0;34m**\u001b[0m\u001b[0mkwargs\u001b[0m\u001b[0;34m)\u001b[0m\u001b[0;34m:\u001b[0m\u001b[0;34m\u001b[0m\u001b[0;34m\u001b[0m\u001b[0m\n\u001b[0;32m--> 352\u001b[0;31m         \u001b[0;32mreturn\u001b[0m \u001b[0mself\u001b[0m\u001b[0;34m.\u001b[0m\u001b[0mfunc\u001b[0m\u001b[0;34m(\u001b[0m\u001b[0;34m*\u001b[0m\u001b[0margs\u001b[0m\u001b[0;34m,\u001b[0m \u001b[0;34m**\u001b[0m\u001b[0mkwargs\u001b[0m\u001b[0;34m)\u001b[0m\u001b[0;34m\u001b[0m\u001b[0;34m\u001b[0m\u001b[0m\n\u001b[0m\u001b[1;32m    353\u001b[0m \u001b[0;34m\u001b[0m\u001b[0m\n\u001b[1;32m    354\u001b[0m     \u001b[0;32mdef\u001b[0m \u001b[0mcall_and_shelve\u001b[0m\u001b[0;34m(\u001b[0m\u001b[0mself\u001b[0m\u001b[0;34m,\u001b[0m \u001b[0;34m*\u001b[0m\u001b[0margs\u001b[0m\u001b[0;34m,\u001b[0m \u001b[0;34m**\u001b[0m\u001b[0mkwargs\u001b[0m\u001b[0;34m)\u001b[0m\u001b[0;34m:\u001b[0m\u001b[0;34m\u001b[0m\u001b[0;34m\u001b[0m\u001b[0m\n",
            "\u001b[0;32m/usr/local/lib/python3.7/dist-packages/sklearn/pipeline.py\u001b[0m in \u001b[0;36m_fit_transform_one\u001b[0;34m(transformer, X, y, weight, message_clsname, message, **fit_params)\u001b[0m\n\u001b[1;32m    726\u001b[0m     \u001b[0;32mwith\u001b[0m \u001b[0m_print_elapsed_time\u001b[0m\u001b[0;34m(\u001b[0m\u001b[0mmessage_clsname\u001b[0m\u001b[0;34m,\u001b[0m \u001b[0mmessage\u001b[0m\u001b[0;34m)\u001b[0m\u001b[0;34m:\u001b[0m\u001b[0;34m\u001b[0m\u001b[0;34m\u001b[0m\u001b[0m\n\u001b[1;32m    727\u001b[0m         \u001b[0;32mif\u001b[0m \u001b[0mhasattr\u001b[0m\u001b[0;34m(\u001b[0m\u001b[0mtransformer\u001b[0m\u001b[0;34m,\u001b[0m \u001b[0;34m'fit_transform'\u001b[0m\u001b[0;34m)\u001b[0m\u001b[0;34m:\u001b[0m\u001b[0;34m\u001b[0m\u001b[0;34m\u001b[0m\u001b[0m\n\u001b[0;32m--> 728\u001b[0;31m             \u001b[0mres\u001b[0m \u001b[0;34m=\u001b[0m \u001b[0mtransformer\u001b[0m\u001b[0;34m.\u001b[0m\u001b[0mfit_transform\u001b[0m\u001b[0;34m(\u001b[0m\u001b[0mX\u001b[0m\u001b[0;34m,\u001b[0m \u001b[0my\u001b[0m\u001b[0;34m,\u001b[0m \u001b[0;34m**\u001b[0m\u001b[0mfit_params\u001b[0m\u001b[0;34m)\u001b[0m\u001b[0;34m\u001b[0m\u001b[0;34m\u001b[0m\u001b[0m\n\u001b[0m\u001b[1;32m    729\u001b[0m         \u001b[0;32melse\u001b[0m\u001b[0;34m:\u001b[0m\u001b[0;34m\u001b[0m\u001b[0;34m\u001b[0m\u001b[0m\n\u001b[1;32m    730\u001b[0m             \u001b[0mres\u001b[0m \u001b[0;34m=\u001b[0m \u001b[0mtransformer\u001b[0m\u001b[0;34m.\u001b[0m\u001b[0mfit\u001b[0m\u001b[0;34m(\u001b[0m\u001b[0mX\u001b[0m\u001b[0;34m,\u001b[0m \u001b[0my\u001b[0m\u001b[0;34m,\u001b[0m \u001b[0;34m**\u001b[0m\u001b[0mfit_params\u001b[0m\u001b[0;34m)\u001b[0m\u001b[0;34m.\u001b[0m\u001b[0mtransform\u001b[0m\u001b[0;34m(\u001b[0m\u001b[0mX\u001b[0m\u001b[0;34m)\u001b[0m\u001b[0;34m\u001b[0m\u001b[0;34m\u001b[0m\u001b[0m\n",
            "\u001b[0;32m/usr/local/lib/python3.7/dist-packages/sklearn/base.py\u001b[0m in \u001b[0;36mfit_transform\u001b[0;34m(self, X, y, **fit_params)\u001b[0m\n\u001b[1;32m    569\u001b[0m         \u001b[0;32mif\u001b[0m \u001b[0my\u001b[0m \u001b[0;32mis\u001b[0m \u001b[0;32mNone\u001b[0m\u001b[0;34m:\u001b[0m\u001b[0;34m\u001b[0m\u001b[0;34m\u001b[0m\u001b[0m\n\u001b[1;32m    570\u001b[0m             \u001b[0;31m# fit method of arity 1 (unsupervised transformation)\u001b[0m\u001b[0;34m\u001b[0m\u001b[0;34m\u001b[0m\u001b[0;34m\u001b[0m\u001b[0m\n\u001b[0;32m--> 571\u001b[0;31m             \u001b[0;32mreturn\u001b[0m \u001b[0mself\u001b[0m\u001b[0;34m.\u001b[0m\u001b[0mfit\u001b[0m\u001b[0;34m(\u001b[0m\u001b[0mX\u001b[0m\u001b[0;34m,\u001b[0m \u001b[0;34m**\u001b[0m\u001b[0mfit_params\u001b[0m\u001b[0;34m)\u001b[0m\u001b[0;34m.\u001b[0m\u001b[0mtransform\u001b[0m\u001b[0;34m(\u001b[0m\u001b[0mX\u001b[0m\u001b[0;34m)\u001b[0m\u001b[0;34m\u001b[0m\u001b[0;34m\u001b[0m\u001b[0m\n\u001b[0m\u001b[1;32m    572\u001b[0m         \u001b[0;32melse\u001b[0m\u001b[0;34m:\u001b[0m\u001b[0;34m\u001b[0m\u001b[0;34m\u001b[0m\u001b[0m\n\u001b[1;32m    573\u001b[0m             \u001b[0;31m# fit method of arity 2 (supervised transformation)\u001b[0m\u001b[0;34m\u001b[0m\u001b[0;34m\u001b[0m\u001b[0;34m\u001b[0m\u001b[0m\n",
            "\u001b[0;32m/usr/local/lib/python3.7/dist-packages/sklearn/preprocessing/_data.py\u001b[0m in \u001b[0;36mfit\u001b[0;34m(self, X, y)\u001b[0m\n\u001b[1;32m    667\u001b[0m         \u001b[0;31m# Reset internal state before fitting\u001b[0m\u001b[0;34m\u001b[0m\u001b[0;34m\u001b[0m\u001b[0;34m\u001b[0m\u001b[0m\n\u001b[1;32m    668\u001b[0m         \u001b[0mself\u001b[0m\u001b[0;34m.\u001b[0m\u001b[0m_reset\u001b[0m\u001b[0;34m(\u001b[0m\u001b[0;34m)\u001b[0m\u001b[0;34m\u001b[0m\u001b[0;34m\u001b[0m\u001b[0m\n\u001b[0;32m--> 669\u001b[0;31m         \u001b[0;32mreturn\u001b[0m \u001b[0mself\u001b[0m\u001b[0;34m.\u001b[0m\u001b[0mpartial_fit\u001b[0m\u001b[0;34m(\u001b[0m\u001b[0mX\u001b[0m\u001b[0;34m,\u001b[0m \u001b[0my\u001b[0m\u001b[0;34m)\u001b[0m\u001b[0;34m\u001b[0m\u001b[0;34m\u001b[0m\u001b[0m\n\u001b[0m\u001b[1;32m    670\u001b[0m \u001b[0;34m\u001b[0m\u001b[0m\n\u001b[1;32m    671\u001b[0m     \u001b[0;32mdef\u001b[0m \u001b[0mpartial_fit\u001b[0m\u001b[0;34m(\u001b[0m\u001b[0mself\u001b[0m\u001b[0;34m,\u001b[0m \u001b[0mX\u001b[0m\u001b[0;34m,\u001b[0m \u001b[0my\u001b[0m\u001b[0;34m=\u001b[0m\u001b[0;32mNone\u001b[0m\u001b[0;34m)\u001b[0m\u001b[0;34m:\u001b[0m\u001b[0;34m\u001b[0m\u001b[0;34m\u001b[0m\u001b[0m\n",
            "\u001b[0;32m/usr/local/lib/python3.7/dist-packages/sklearn/preprocessing/_data.py\u001b[0m in \u001b[0;36mpartial_fit\u001b[0;34m(self, X, y)\u001b[0m\n\u001b[1;32m    698\u001b[0m         X = check_array(X, accept_sparse=('csr', 'csc'),\n\u001b[1;32m    699\u001b[0m                         \u001b[0mestimator\u001b[0m\u001b[0;34m=\u001b[0m\u001b[0mself\u001b[0m\u001b[0;34m,\u001b[0m \u001b[0mdtype\u001b[0m\u001b[0;34m=\u001b[0m\u001b[0mFLOAT_DTYPES\u001b[0m\u001b[0;34m,\u001b[0m\u001b[0;34m\u001b[0m\u001b[0;34m\u001b[0m\u001b[0m\n\u001b[0;32m--> 700\u001b[0;31m                         force_all_finite='allow-nan')\n\u001b[0m\u001b[1;32m    701\u001b[0m \u001b[0;34m\u001b[0m\u001b[0m\n\u001b[1;32m    702\u001b[0m         \u001b[0;31m# Even in the case of `with_mean=False`, we update the mean anyway\u001b[0m\u001b[0;34m\u001b[0m\u001b[0;34m\u001b[0m\u001b[0;34m\u001b[0m\u001b[0m\n",
            "\u001b[0;32m/usr/local/lib/python3.7/dist-packages/sklearn/utils/validation.py\u001b[0m in \u001b[0;36mcheck_array\u001b[0;34m(array, accept_sparse, accept_large_sparse, dtype, order, copy, force_all_finite, ensure_2d, allow_nd, ensure_min_samples, ensure_min_features, warn_on_dtype, estimator)\u001b[0m\n\u001b[1;32m    529\u001b[0m                     \u001b[0marray\u001b[0m \u001b[0;34m=\u001b[0m \u001b[0marray\u001b[0m\u001b[0;34m.\u001b[0m\u001b[0mastype\u001b[0m\u001b[0;34m(\u001b[0m\u001b[0mdtype\u001b[0m\u001b[0;34m,\u001b[0m \u001b[0mcasting\u001b[0m\u001b[0;34m=\u001b[0m\u001b[0;34m\"unsafe\"\u001b[0m\u001b[0;34m,\u001b[0m \u001b[0mcopy\u001b[0m\u001b[0;34m=\u001b[0m\u001b[0;32mFalse\u001b[0m\u001b[0;34m)\u001b[0m\u001b[0;34m\u001b[0m\u001b[0;34m\u001b[0m\u001b[0m\n\u001b[1;32m    530\u001b[0m                 \u001b[0;32melse\u001b[0m\u001b[0;34m:\u001b[0m\u001b[0;34m\u001b[0m\u001b[0;34m\u001b[0m\u001b[0m\n\u001b[0;32m--> 531\u001b[0;31m                     \u001b[0marray\u001b[0m \u001b[0;34m=\u001b[0m \u001b[0mnp\u001b[0m\u001b[0;34m.\u001b[0m\u001b[0masarray\u001b[0m\u001b[0;34m(\u001b[0m\u001b[0marray\u001b[0m\u001b[0;34m,\u001b[0m \u001b[0morder\u001b[0m\u001b[0;34m=\u001b[0m\u001b[0morder\u001b[0m\u001b[0;34m,\u001b[0m \u001b[0mdtype\u001b[0m\u001b[0;34m=\u001b[0m\u001b[0mdtype\u001b[0m\u001b[0;34m)\u001b[0m\u001b[0;34m\u001b[0m\u001b[0;34m\u001b[0m\u001b[0m\n\u001b[0m\u001b[1;32m    532\u001b[0m             \u001b[0;32mexcept\u001b[0m \u001b[0mComplexWarning\u001b[0m\u001b[0;34m:\u001b[0m\u001b[0;34m\u001b[0m\u001b[0;34m\u001b[0m\u001b[0m\n\u001b[1;32m    533\u001b[0m                 raise ValueError(\"Complex data not supported\\n\"\n",
            "\u001b[0;32m/usr/local/lib/python3.7/dist-packages/numpy/core/_asarray.py\u001b[0m in \u001b[0;36masarray\u001b[0;34m(a, dtype, order)\u001b[0m\n\u001b[1;32m     81\u001b[0m \u001b[0;34m\u001b[0m\u001b[0m\n\u001b[1;32m     82\u001b[0m     \"\"\"\n\u001b[0;32m---> 83\u001b[0;31m     \u001b[0;32mreturn\u001b[0m \u001b[0marray\u001b[0m\u001b[0;34m(\u001b[0m\u001b[0ma\u001b[0m\u001b[0;34m,\u001b[0m \u001b[0mdtype\u001b[0m\u001b[0;34m,\u001b[0m \u001b[0mcopy\u001b[0m\u001b[0;34m=\u001b[0m\u001b[0;32mFalse\u001b[0m\u001b[0;34m,\u001b[0m \u001b[0morder\u001b[0m\u001b[0;34m=\u001b[0m\u001b[0morder\u001b[0m\u001b[0;34m)\u001b[0m\u001b[0;34m\u001b[0m\u001b[0;34m\u001b[0m\u001b[0m\n\u001b[0m\u001b[1;32m     84\u001b[0m \u001b[0;34m\u001b[0m\u001b[0m\n\u001b[1;32m     85\u001b[0m \u001b[0;34m\u001b[0m\u001b[0m\n",
            "\u001b[0;32m/usr/local/lib/python3.7/dist-packages/pandas/core/generic.py\u001b[0m in \u001b[0;36m__array__\u001b[0;34m(self, dtype)\u001b[0m\n\u001b[1;32m   1779\u001b[0m \u001b[0;34m\u001b[0m\u001b[0m\n\u001b[1;32m   1780\u001b[0m     \u001b[0;32mdef\u001b[0m \u001b[0m__array__\u001b[0m\u001b[0;34m(\u001b[0m\u001b[0mself\u001b[0m\u001b[0;34m,\u001b[0m \u001b[0mdtype\u001b[0m\u001b[0;34m=\u001b[0m\u001b[0;32mNone\u001b[0m\u001b[0;34m)\u001b[0m \u001b[0;34m->\u001b[0m \u001b[0mnp\u001b[0m\u001b[0;34m.\u001b[0m\u001b[0mndarray\u001b[0m\u001b[0;34m:\u001b[0m\u001b[0;34m\u001b[0m\u001b[0;34m\u001b[0m\u001b[0m\n\u001b[0;32m-> 1781\u001b[0;31m         \u001b[0;32mreturn\u001b[0m \u001b[0mnp\u001b[0m\u001b[0;34m.\u001b[0m\u001b[0masarray\u001b[0m\u001b[0;34m(\u001b[0m\u001b[0mself\u001b[0m\u001b[0;34m.\u001b[0m\u001b[0m_values\u001b[0m\u001b[0;34m,\u001b[0m \u001b[0mdtype\u001b[0m\u001b[0;34m=\u001b[0m\u001b[0mdtype\u001b[0m\u001b[0;34m)\u001b[0m\u001b[0;34m\u001b[0m\u001b[0;34m\u001b[0m\u001b[0m\n\u001b[0m\u001b[1;32m   1782\u001b[0m \u001b[0;34m\u001b[0m\u001b[0m\n\u001b[1;32m   1783\u001b[0m     \u001b[0;32mdef\u001b[0m \u001b[0m__array_wrap__\u001b[0m\u001b[0;34m(\u001b[0m\u001b[0mself\u001b[0m\u001b[0;34m,\u001b[0m \u001b[0mresult\u001b[0m\u001b[0;34m,\u001b[0m \u001b[0mcontext\u001b[0m\u001b[0;34m=\u001b[0m\u001b[0;32mNone\u001b[0m\u001b[0;34m)\u001b[0m\u001b[0;34m:\u001b[0m\u001b[0;34m\u001b[0m\u001b[0;34m\u001b[0m\u001b[0m\n",
            "\u001b[0;32m/usr/local/lib/python3.7/dist-packages/numpy/core/_asarray.py\u001b[0m in \u001b[0;36masarray\u001b[0;34m(a, dtype, order)\u001b[0m\n\u001b[1;32m     81\u001b[0m \u001b[0;34m\u001b[0m\u001b[0m\n\u001b[1;32m     82\u001b[0m     \"\"\"\n\u001b[0;32m---> 83\u001b[0;31m     \u001b[0;32mreturn\u001b[0m \u001b[0marray\u001b[0m\u001b[0;34m(\u001b[0m\u001b[0ma\u001b[0m\u001b[0;34m,\u001b[0m \u001b[0mdtype\u001b[0m\u001b[0;34m,\u001b[0m \u001b[0mcopy\u001b[0m\u001b[0;34m=\u001b[0m\u001b[0;32mFalse\u001b[0m\u001b[0;34m,\u001b[0m \u001b[0morder\u001b[0m\u001b[0;34m=\u001b[0m\u001b[0morder\u001b[0m\u001b[0;34m)\u001b[0m\u001b[0;34m\u001b[0m\u001b[0;34m\u001b[0m\u001b[0m\n\u001b[0m\u001b[1;32m     84\u001b[0m \u001b[0;34m\u001b[0m\u001b[0m\n\u001b[1;32m     85\u001b[0m \u001b[0;34m\u001b[0m\u001b[0m\n",
            "\u001b[0;31mValueError\u001b[0m: could not convert string to float: 'From country'"
          ]
        }
      ]
    },
    {
      "cell_type": "markdown",
      "metadata": {
        "id": "g7P0ua956VRz"
      },
      "source": [
        "![image.png](data:image/png;base64,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)"
      ]
    },
    {
      "cell_type": "markdown",
      "metadata": {
        "id": "Xn_WS8Vx6WaM"
      },
      "source": [
        "Looks like feature 0,1 have significant variance"
      ]
    },
    {
      "cell_type": "code",
      "metadata": {
        "id": "7a_7eJhh9KzG"
      },
      "source": [
        "# Import PCA\n",
        "from sklearn.decomposition import PCA\n",
        "\n",
        "# Create a PCA instance with 2 components: pca\n",
        "pca = PCA(n_components=2)         #hence reduced dimesions from org 4 features to 2\n",
        "#by default PCA will pick first 2 features with highest variance, assuming they are the most imp\n",
        "\n",
        "# Fit the PCA instance to the scaled samples\n",
        "pca.fit(scaled_samples)\n",
        "\n",
        "# Transform the scaled samples: pca_features\n",
        "pca_features = pca.transform(scaled_samples)\n",
        "\n",
        "# Print the shape of pca_features\n",
        "print(pca_features.shape)\n"
      ],
      "execution_count": null,
      "outputs": []
    },
    {
      "cell_type": "markdown",
      "metadata": {
        "id": "acOMSyda9k3D"
      },
      "source": [
        "Import TfidfVectorizer from sklearn.feature_extraction.text.\n",
        "Create a TfidfVectorizer instance called tfidf.\n",
        "Apply .fit_transform() method of tfidf to documents and assign the result to csr_mat. This is a word-frequency array in csr_matrix format.\n",
        "Inspect csr_mat by calling its .toarray() method and printing the result. This has been done for you.\n",
        "The columns of the array correspond to words. Get the list of words by calling the .get_feature_names() method of tfidf, and assign the result to words"
      ]
    },
    {
      "cell_type": "code",
      "metadata": {
        "id": "mQU0-fg49anM"
      },
      "source": [
        "# Import TfidfVectorizer\n",
        "from sklearn.feature_extraction.text import TfidfVectorizer\n",
        "\n",
        "# Create a TfidfVectorizer: tfidf\n",
        "tfidf = TfidfVectorizer() \n",
        "\n",
        "# Apply fit_transform to document: csr_mat\n",
        "csr_mat = tfidf.fit_transform(documents)\n",
        "\n",
        "# Print result of toarray() method\n",
        "print(csr_mat.toarray())\n",
        "\n",
        "# Get the words: words\n",
        "words = tfidf.get_feature_names()\n",
        "\n",
        "# Print words\n",
        "print(words)\n"
      ],
      "execution_count": null,
      "outputs": []
    },
    {
      "cell_type": "code",
      "metadata": {
        "id": "SbiOSlZx9rfr"
      },
      "source": [
        "# Perform the necessary imports\n",
        "from sklearn.decomposition import TruncatedSVD\n",
        "from sklearn.cluster import KMeans\n",
        "from sklearn.pipeline import make_pipeline\n",
        "\n",
        "# Create a TruncatedSVD instance: svd\n",
        "svd = TruncatedSVD(n_components=50)\n",
        "\n",
        "# Create a KMeans instance: kmeans\n",
        "kmeans = KMeans(n_clusters=6)\n",
        "\n",
        "# Create a pipeline: pipeline\n",
        "pipeline = make_pipeline(svd, kmeans)\n"
      ],
      "execution_count": null,
      "outputs": []
    },
    {
      "cell_type": "markdown",
      "metadata": {
        "id": "PO2jiVKI9yck"
      },
      "source": [
        "You are given an array articles of tf-idf word-frequencies of some popular Wikipedia articles, and a list titles of their titles. Use your pipeline to cluster the Wikipedia articles.\n",
        "\n",
        "A solution to the previous exercise has been pre-loaded for you, so a Pipeline pipeline chaining TruncatedSVD with KMeans is available."
      ]
    },
    {
      "cell_type": "code",
      "metadata": {
        "id": "P-8k_Bho93Bl"
      },
      "source": [
        "# Import pandas\n",
        "import pandas as pd\n",
        "\n",
        "# Fit the pipeline to articles\n",
        "pipeline.fit(articles)\n",
        "\n",
        "# Calculate the cluster labels: labels\n",
        "labels = pipeline.predict(articles)\n",
        "\n",
        "# Create a DataFrame aligning labels and titles: df\n",
        "df = pd.DataFrame({'label': labels, 'article': titles})\n",
        "\n",
        "# Display df sorted by cluster label\n",
        "print(df.sort_values('label'))\n"
      ],
      "execution_count": null,
      "outputs": []
    },
    {
      "cell_type": "markdown",
      "metadata": {
        "id": "VgNd97SLCJEb"
      },
      "source": [
        "#NMF applied to Wikipedia articles"
      ]
    },
    {
      "cell_type": "code",
      "metadata": {
        "id": "oPdXYwuRCLjD"
      },
      "source": [
        "# Import NMF\n",
        "from sklearn.decomposition import NMF\n",
        "\n",
        "# Create an NMF instance: model\n",
        "model = NMF(n_components=6)\n",
        "\n",
        "# Fit the model to articles\n",
        "model.fit(articles)\n",
        "\n",
        "# Transform the articles: nmf_features\n",
        "nmf_features = model.transform(articles)\n",
        "\n",
        "# Print the NMF features\n",
        "print(nmf_features.round(2))"
      ],
      "execution_count": null,
      "outputs": []
    },
    {
      "cell_type": "code",
      "metadata": {
        "id": "wXwTvEnDCRsc"
      },
      "source": [
        "# Import pandas\n",
        "import pandas as pd\n",
        "\n",
        "# Create a pandas DataFrame: df\n",
        "df = pd.DataFrame(nmf_features, index=titles)\n",
        "\n",
        "# Print the row for 'Anne Hathaway'\n",
        "print(df.loc['Anne Hathaway'])\n",
        "\n",
        "# Print the row for 'Denzel Washington'\n",
        "print(df.loc['Denzel Washington'])\n"
      ],
      "execution_count": null,
      "outputs": []
    },
    {
      "cell_type": "markdown",
      "metadata": {
        "id": "EkGwivzQGEgw"
      },
      "source": [
        "NMF learns topics of documents"
      ]
    },
    {
      "cell_type": "code",
      "metadata": {
        "id": "iKyJPO6PGH9n"
      },
      "source": [
        "# Import pandas\n",
        "import pandas as pd\n",
        "\n",
        "# Create a DataFrame: components_df\n",
        "components_df = pd.DataFrame(model.components_, columns=words)\n",
        "\n",
        "# Print the shape of the DataFrame\n",
        "print(components_df.shape)\n",
        "\n",
        "# Select row 3: component\n",
        "component = components_df.iloc[3]\n",
        "\n",
        "# Print result of nlargest\n",
        "print(component.nlargest())\n"
      ],
      "execution_count": null,
      "outputs": []
    },
    {
      "cell_type": "markdown",
      "metadata": {
        "id": "RXCHqihXGMc2"
      },
      "source": [
        "Explore the LED digits dataset"
      ]
    },
    {
      "cell_type": "code",
      "metadata": {
        "id": "RgOQWUzrGO23"
      },
      "source": [
        "# Import pyplot\n",
        "from matplotlib import pyplot as plt\n",
        "\n",
        "# Select the 0th row: digit\n",
        "digit = samples[0,:]\n",
        "\n",
        "# Print digit\n",
        "print(digit)\n",
        "\n",
        "# Reshape digit to a 13x8 array: bitmap\n",
        "bitmap = digit.reshape((13, 8))\n",
        "\n",
        "# Print bitmap\n",
        "print(bitmap)\n",
        "\n",
        "# Use plt.imshow to display bitmap\n",
        "plt.imshow(bitmap, cmap='gray', interpolation='nearest')\n",
        "plt.colorbar()\n",
        "plt.show()\n"
      ],
      "execution_count": null,
      "outputs": []
    },
    {
      "cell_type": "markdown",
      "metadata": {
        "id": "n-LG02MdGTRp"
      },
      "source": [
        "NMF learns the parts of images\n",
        "\n",
        "Import NMF from sklearn.decomposition.\n",
        "Create an NMF instance called model with 7 components. (7 is the number of cells in an LED display).\n",
        "Apply the .fit_transform() method of model to samples. Assign the result to features.\n",
        "To each component of the model (accessed via model.components_), apply the show_as_image() function to that component inside the loop.\n",
        "Assign the row 0 of features to digit_features.\n",
        "Print digit_features."
      ]
    },
    {
      "cell_type": "code",
      "metadata": {
        "id": "CjGOJGBtGZmO"
      },
      "source": [
        "# Import NMF\n",
        "from sklearn.decomposition import NMF\n",
        "\n",
        "# Create an NMF model: model\n",
        "model = NMF(n_components=7)\n",
        "\n",
        "# Apply fit_transform to samples: features\n",
        "features = model.fit_transform(samples)\n",
        "\n",
        "# Call show_as_image on each component\n",
        "for component in model.components_:\n",
        "    show_as_image(component)\n",
        "\n",
        "# Select the 0th row of features: digit_features\n",
        "digit_features = features[0,:]\n",
        "\n",
        "# Print digit_features\n",
        "print(digit_features)"
      ],
      "execution_count": null,
      "outputs": []
    },
    {
      "cell_type": "code",
      "metadata": {
        "id": "vHPV07xVGeBa"
      },
      "source": [
        "# Import PCA\n",
        "from sklearn.decomposition import PCA\n",
        "\n",
        "# Create a PCA instance: model\n",
        "model = PCA(n_components=7)\n",
        "\n",
        "# Apply fit_transform to samples: features\n",
        "features = model.fit_transform(samples)\n",
        "\n",
        "# Call show_as_image on each component\n",
        "for component in model.components_:\n",
        "    show_as_image(component)\n",
        "    "
      ],
      "execution_count": null,
      "outputs": []
    },
    {
      "cell_type": "markdown",
      "metadata": {
        "id": "Wk1dmJouHfZ4"
      },
      "source": [
        "Which articles are similar to 'Cristiano Ronaldo'?\n",
        "\n",
        "mport normalize from sklearn.preprocessing.\n",
        "Apply the normalize() function to nmf_features. Store the result as norm_features.\n",
        "Create a DataFrame df from norm_features, using titles as an index.\n",
        "Use the .loc[] accessor of df to select the row of 'Cristiano Ronaldo'. Assign the result to article.\n",
        "Apply the .dot() method of df to article to calculate the cosine similarity of every row with article.\n",
        "Print the result of the .nlargest() method of similarities to display the most similiar articles. This has been done for you, so hit 'Submit Answer' to see the result!"
      ]
    },
    {
      "cell_type": "code",
      "metadata": {
        "id": "SlNapsMfHk3e"
      },
      "source": [
        "# Perform the necessary imports\n",
        "import pandas as pd\n",
        "from sklearn.preprocessing import normalize\n",
        "\n",
        "# Normalize the NMF features: norm_features\n",
        "norm_features = normalize(nmf_features)\n",
        "\n",
        "# Create a DataFrame: df\n",
        "df = pd.DataFrame(norm_features, index=titles)\n",
        "\n",
        "# Select the row corresponding to 'Cristiano Ronaldo': article\n",
        "article = df.loc['Cristiano Ronaldo']\n",
        "\n",
        "# Compute the dot products: similarities\n",
        "similarities = df.dot(article)\n",
        "\n",
        "# Display those with the largest cosine similarity\n",
        "print(similarities.nlargest())"
      ],
      "execution_count": null,
      "outputs": []
    },
    {
      "cell_type": "markdown",
      "metadata": {
        "id": "ZzWLjZCTHo32"
      },
      "source": [
        "#Recommend musical artists part I\n",
        "In this exercise and the next, you'll use what you've learned about NMF to recommend popular music artists! You are given a sparse array artists whose rows correspond to artists and whose columns correspond to users. The entries give the number of times each artist was listened to by each user.\n",
        "\n",
        "In this exercise, build a pipeline and transform the array into normalized NMF features. The first step in the pipeline, MaxAbsScaler, transforms the data so that all users have the same influence on the model, regardless of how many different artists they've listened to. In the next exercise, you'll use the resulting normalized NMF features for recommendation!"
      ]
    },
    {
      "cell_type": "markdown",
      "metadata": {
        "id": "ccN2JVonHrY2"
      },
      "source": [
        "Import:\n",
        "NMF from sklearn.decomposition.\n",
        "Normalizer and MaxAbsScaler from sklearn.preprocessing.\n",
        "make_pipeline from sklearn.pipeline.\n",
        "Create an instance of MaxAbsScaler called scaler.\n",
        "Create an NMF instance with 20 components called nmf.\n",
        "Create an instance of Normalizer called normalizer.\n",
        "Create a pipeline called pipeline that chains together scaler, nmf, and normalizer.\n",
        "Apply the .fit_transform() method of pipeline to artists. Assign the result to norm_features."
      ]
    },
    {
      "cell_type": "code",
      "metadata": {
        "id": "SkO_MVAXHvUd"
      },
      "source": [
        "# Perform the necessary imports\n",
        "from sklearn.decomposition import NMF\n",
        "from sklearn.preprocessing import Normalizer, MaxAbsScaler\n",
        "from sklearn.pipeline import make_pipeline\n",
        "\n",
        "# Create a MaxAbsScaler: scaler\n",
        "scaler = MaxAbsScaler()\n",
        "\n",
        "# Create an NMF model: nmf\n",
        "nmf = NMF(n_components=20)\n",
        "\n",
        "# Create a Normalizer: normalizer\n",
        "normalizer = Normalizer()\n",
        "\n",
        "# Create a pipeline: pipeline\n",
        "pipeline = make_pipeline(scaler, nmf, normalizer)\n",
        "\n",
        "# Apply fit_transform to artists: norm_features\n",
        "norm_features = pipeline.fit_transform(artists)\n"
      ],
      "execution_count": null,
      "outputs": []
    },
    {
      "cell_type": "code",
      "metadata": {
        "id": "u6m4_6ITHyIe"
      },
      "source": [
        "#Recommend musical artists part II\n",
        "Suppose you were a big fan of Bruce Springsteen - \n",
        "which other musicial artists might you like? Use your NMF features from the previous exercise and \n",
        "the cosine similarity to find similar musical artists. A solution to the previous exercise has been run, \n",
        "so norm_features is an array containing the normalized NMF features as rows. The names of the musical artists are available as the list artist_names."
      ],
      "execution_count": null,
      "outputs": []
    },
    {
      "cell_type": "markdown",
      "metadata": {
        "id": "BtnwKvelH2Gn"
      },
      "source": [
        "Import pandas as pd.\n",
        "Create a DataFrame df from norm_features, using artist_names as an index.\n",
        "Use the .loc[] accessor of df to select the row of 'Bruce Springsteen'. Assign the result to artist.\n",
        "Apply the .dot() method of df to artist to calculate the dot product of every row with artist. Save the result as similarities.\n",
        "Print the result of the .nlargest() method of similarities to display the artists most similar to 'Bruce Springsteen'."
      ]
    },
    {
      "cell_type": "code",
      "metadata": {
        "id": "MAs1BLYQH6h4"
      },
      "source": [
        "# Import pandas\n",
        "import pandas as pd\n",
        "\n",
        "# Create a DataFrame: df\n",
        "df = pd.DataFrame(norm_features, index=artist_names)\n",
        "\n",
        "# Select row of 'Bruce Springsteen': artist\n",
        "artist = df.loc['Bruce Springsteen']\n",
        "\n",
        "# Compute cosine similarities: similarities\n",
        "similarities = df.dot(artist)\n",
        "\n",
        "# Display those with highest cosine similarity\n",
        "print(similarities.nlargest())\n"
      ],
      "execution_count": null,
      "outputs": []
    }
  ]
}